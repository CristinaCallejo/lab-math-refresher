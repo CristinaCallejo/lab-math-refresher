{
 "cells": [
  {
   "cell_type": "code",
   "execution_count": 45,
   "metadata": {},
   "outputs": [],
   "source": [
    "#imports\n",
    "import matplotlib.pyplot as plt\n",
    "import math\n",
    "import math"
   ]
  },
  {
   "cell_type": "code",
   "execution_count": 46,
   "metadata": {},
   "outputs": [],
   "source": [
    "def initialize_grid():\n",
    "    fig, ax = plt.subplots(figsize=(6, 6))\n",
    "    \n",
    "    # where do we want lines\n",
    "    ticks = np.arange(-10, 10, 1)\n",
    "    \n",
    "    # draw grid\n",
    "    ax.set_xticks(ticks)\n",
    "    ax.set_yticks(ticks)\n",
    "    ax.grid(True, which='both')\n",
    "    \n",
    "    # 1-1 X and Y proportion\n",
    "    ax.set_aspect('equal')\n",
    "    \n",
    "    # X and Y axes\n",
    "    ax.axhline(y=0, color='k')\n",
    "    ax.axvline(x=0, color='k')\n",
    "    \n",
    "    # set axes' limits\n",
    "    ax.set_xlim([-10, 10])\n",
    "    ax.set_ylim([-10, 10])"
   ]
  },
  {
   "cell_type": "markdown",
   "metadata": {},
   "source": [
    "### 1. Euclidean plane"
   ]
  },
  {
   "cell_type": "markdown",
   "metadata": {},
   "source": [
    "Consider this 3 points on 2D space:  \n",
    "$A=(4, 5)$  \n",
    "$B=(-2, -4)$  \n",
    "$C=(8, -1)$  "
   ]
  },
  {
   "cell_type": "markdown",
   "metadata": {},
   "source": [
    "#### 1.1. Plot them using `matplotlib`  "
   ]
  },
  {
   "cell_type": "code",
   "execution_count": 47,
   "metadata": {},
   "outputs": [],
   "source": [
    "𝐴=(4,5)\n",
    "𝐵=(-2,-4)\n",
    "𝐶=(8,-1)"
   ]
  },
  {
   "cell_type": "code",
   "execution_count": 48,
   "metadata": {},
   "outputs": [
    {
     "data": {
      "text/plain": [
       "<matplotlib.legend.Legend at 0x7fa35844b3a0>"
      ]
     },
     "execution_count": 48,
     "metadata": {},
     "output_type": "execute_result"
    },
    {
     "data": {
      "image/png": "[encoded data removed]",
      "text/plain": [
       "<Figure size 432x288 with 1 Axes>"
      ]
     },
     "metadata": {
      "needs_background": "light"
     },
     "output_type": "display_data"
    }
   ],
   "source": [
    "fig, ax = plt.subplots()\n",
    "plt.plot(A[0], A[1], \"o\", markersize=8, label=\"A\")\n",
    "plt.plot(B[0], B[1], \"o\", markersize=8, label=\"B\")\n",
    "plt.plot(C[0], C[1], \"o\", markersize=8, label=\"C\")\n",
    "ax.set_xlim([-6, 14])\n",
    "ax.set_ylim([-6, 8])\n",
    "plt.legend()\n"
   ]
  },
  {
   "cell_type": "markdown",
   "metadata": {},
   "source": [
    "#### 1.2. Which distance is longer, $AC, AB, \\text{or} BC$? Write a function that calculates distance between two points."
   ]
  },
  {
   "cell_type": "code",
   "execution_count": 49,
   "metadata": {},
   "outputs": [],
   "source": [
    "𝐴=(4,5)\n",
    "𝐵=(-2,-4)\n",
    "𝐶=(8,-1)"
   ]
  },
  {
   "cell_type": "code",
   "execution_count": 50,
   "metadata": {
    "scrolled": true
   },
   "outputs": [
    {
     "data": {
      "text/plain": [
       "-9"
      ]
     },
     "execution_count": 50,
     "metadata": {},
     "output_type": "execute_result"
    }
   ],
   "source": [
    "# y - axis / vertical segment\n",
    "cy = (B[1])-(A[1])\n",
    "cy"
   ]
  },
  {
   "cell_type": "code",
   "execution_count": 51,
   "metadata": {},
   "outputs": [
    {
     "data": {
      "text/plain": [
       "-6"
      ]
     },
     "execution_count": 51,
     "metadata": {},
     "output_type": "execute_result"
    }
   ],
   "source": [
    "# x - axis / horizontal segment\n",
    "cx = (B[0])-(A[0])\n",
    "cx"
   ]
  },
  {
   "cell_type": "code",
   "execution_count": 52,
   "metadata": {},
   "outputs": [
    {
     "data": {
      "text/plain": [
       "10.816653826391969"
      ]
     },
     "execution_count": 52,
     "metadata": {},
     "output_type": "execute_result"
    }
   ],
   "source": [
    "dist_AB = math.sqrt(cy ** 2 + cx ** 2)\n",
    "dist_AB"
   ]
  },
  {
   "cell_type": "code",
   "execution_count": 53,
   "metadata": {},
   "outputs": [],
   "source": [
    "def distance_bw_points (A,B):\n",
    " \n",
    "    cy = (B[1])-(A[1])\n",
    "    cx = (B[0])-(A[0])\n",
    "    dist_AB = math.sqrt(cy ** 2 + cx ** 2)\n",
    "    \n",
    "    return dist_AB"
   ]
  },
  {
   "cell_type": "code",
   "execution_count": 54,
   "metadata": {},
   "outputs": [],
   "source": [
    "dist_AB = distance_bw_points (A,B)\n",
    "dist_AC = distance_bw_points (A,C)\n",
    "dist_BC = distance_bw_points (B,C)"
   ]
  },
  {
   "cell_type": "code",
   "execution_count": 55,
   "metadata": {},
   "outputs": [
    {
     "name": "stdout",
     "output_type": "stream",
     "text": [
      "10.816653826391969\n",
      "7.211102550927978\n",
      "10.44030650891055\n"
     ]
    }
   ],
   "source": [
    "print (dist_AB)\n",
    "print (dist_AC)\n",
    "print (dist_BC)"
   ]
  },
  {
   "cell_type": "code",
   "execution_count": 56,
   "metadata": {},
   "outputs": [
    {
     "data": {
      "text/plain": [
       "10.816653826391969"
      ]
     },
     "execution_count": 56,
     "metadata": {},
     "output_type": "execute_result"
    }
   ],
   "source": [
    "longest_dist = max(dist_AB, dist_AC, dist_BC)  \n",
    "longest_dist"
   ]
  },
  {
   "cell_type": "markdown",
   "metadata": {},
   "source": [
    "dist_AB is the longest distance."
   ]
  },
  {
   "cell_type": "markdown",
   "metadata": {},
   "source": [
    "#### 1.3. What is the perimeter of triangle $ABC$?"
   ]
  },
  {
   "cell_type": "code",
   "execution_count": 57,
   "metadata": {},
   "outputs": [],
   "source": [
    "perimeter = dist_AB + dist_AC + dist_BC"
   ]
  },
  {
   "cell_type": "code",
   "execution_count": 58,
   "metadata": {},
   "outputs": [
    {
     "data": {
      "text/plain": [
       "28.4680628862305"
      ]
     },
     "execution_count": 58,
     "metadata": {},
     "output_type": "execute_result"
    }
   ],
   "source": [
    "perimeter"
   ]
  },
  {
   "cell_type": "code",
   "execution_count": null,
   "metadata": {},
   "outputs": [],
   "source": []
  },
  {
   "cell_type": "markdown",
   "metadata": {},
   "source": [
    "### 2. Linear functions"
   ]
  },
  {
   "cell_type": "markdown",
   "metadata": {},
   "source": [
    "Consider the following straight lines on 2D space:  "
   ]
  },
  {
   "cell_type": "markdown",
   "metadata": {},
   "source": [
    "$y_1=2x-3$  \n",
    "$y_2=-3x+12$"
   ]
  },
  {
   "cell_type": "markdown",
   "metadata": {},
   "source": [
    "#### 2.1. Plot them"
   ]
  },
  {
   "cell_type": "code",
   "execution_count": 59,
   "metadata": {},
   "outputs": [],
   "source": [
    "x = np.linspace(\n",
    "    start=-10, \n",
    "    stop=10, \n",
    "    num=300\n",
    ")"
   ]
  },
  {
   "cell_type": "code",
   "execution_count": 60,
   "metadata": {},
   "outputs": [],
   "source": [
    "y_1 = 2 * x - 3  \n",
    "y_2 = -3 * x + 12\n",
    "y_2=-3*x+12  "
   ]
  },
  {
   "cell_type": "code",
   "execution_count": 61,
   "metadata": {
    "scrolled": true
   },
   "outputs": [
    {
     "data": {
      "text/plain": [
       "<matplotlib.legend.Legend at 0x7fa35857afa0>"
      ]
     },
     "execution_count": 61,
     "metadata": {},
     "output_type": "execute_result"
    },
    {
     "data": {
      "image/png": "[encoded data removed]",
      "text/plain": [
       "<Figure size 432x288 with 1 Axes>"
      ]
     },
     "metadata": {
      "needs_background": "light"
     },
     "output_type": "display_data"
    }
   ],
   "source": [
    "plt.plot(x, y_1, \"-\", markersize=2,label=\"y_1\")\n",
    "plt.plot(x, y_2, \"-\", markersize=2,label=\"y_2\")\n",
    "plt.legend()"
   ]
  },
  {
   "cell_type": "markdown",
   "metadata": {},
   "source": [
    "#### 2.2. What are the respective slopes"
   ]
  },
  {
   "cell_type": "code",
   "execution_count": 62,
   "metadata": {},
   "outputs": [],
   "source": [
    "slope_y_1 = 2\n",
    "slope_y_2 = -3"
   ]
  },
  {
   "cell_type": "code",
   "execution_count": null,
   "metadata": {},
   "outputs": [],
   "source": []
  },
  {
   "cell_type": "markdown",
   "metadata": {},
   "source": [
    "#### 2.3. Give 3 points through which $y_1$ goes through"
   ]
  },
  {
   "cell_type": "code",
   "execution_count": 63,
   "metadata": {},
   "outputs": [],
   "source": [
    "# y = m*x + n\n",
    "y = 2*x-3"
   ]
  },
  {
   "cell_type": "code",
   "execution_count": 64,
   "metadata": {},
   "outputs": [
    {
     "data": {
      "text/plain": [
       "(array([-10.        ,  -9.93311037,  -9.86622074,  -9.7993311 ,\n",
       "         -9.73244147,  -9.66555184,  -9.59866221,  -9.53177258,\n",
       "         -9.46488294,  -9.39799331,  -9.33110368,  -9.26421405,\n",
       "         -9.19732441,  -9.13043478,  -9.06354515,  -8.99665552,\n",
       "         -8.92976589,  -8.86287625,  -8.79598662,  -8.72909699,\n",
       "         -8.66220736,  -8.59531773,  -8.52842809,  -8.46153846,\n",
       "         -8.39464883,  -8.3277592 ,  -8.26086957,  -8.19397993,\n",
       "         -8.1270903 ,  -8.06020067,  -7.99331104,  -7.9264214 ,\n",
       "         -7.85953177,  -7.79264214,  -7.72575251,  -7.65886288,\n",
       "         -7.59197324,  -7.52508361,  -7.45819398,  -7.39130435,\n",
       "         -7.32441472,  -7.25752508,  -7.19063545,  -7.12374582,\n",
       "         -7.05685619,  -6.98996656,  -6.92307692,  -6.85618729,\n",
       "         -6.78929766,  -6.72240803,  -6.65551839,  -6.58862876,\n",
       "         -6.52173913,  -6.4548495 ,  -6.38795987,  -6.32107023,\n",
       "         -6.2541806 ,  -6.18729097,  -6.12040134,  -6.05351171,\n",
       "         -5.98662207,  -5.91973244,  -5.85284281,  -5.78595318,\n",
       "         -5.71906355,  -5.65217391,  -5.58528428,  -5.51839465,\n",
       "         -5.45150502,  -5.38461538,  -5.31772575,  -5.25083612,\n",
       "         -5.18394649,  -5.11705686,  -5.05016722,  -4.98327759,\n",
       "         -4.91638796,  -4.84949833,  -4.7826087 ,  -4.71571906,\n",
       "         -4.64882943,  -4.5819398 ,  -4.51505017,  -4.44816054,\n",
       "         -4.3812709 ,  -4.31438127,  -4.24749164,  -4.18060201,\n",
       "         -4.11371237,  -4.04682274,  -3.97993311,  -3.91304348,\n",
       "         -3.84615385,  -3.77926421,  -3.71237458,  -3.64548495,\n",
       "         -3.57859532,  -3.51170569,  -3.44481605,  -3.37792642,\n",
       "         -3.31103679,  -3.24414716,  -3.17725753,  -3.11036789,\n",
       "         -3.04347826,  -2.97658863,  -2.909699  ,  -2.84280936,\n",
       "         -2.77591973,  -2.7090301 ,  -2.64214047,  -2.57525084,\n",
       "         -2.5083612 ,  -2.44147157,  -2.37458194,  -2.30769231,\n",
       "         -2.24080268,  -2.17391304,  -2.10702341,  -2.04013378,\n",
       "         -1.97324415,  -1.90635452,  -1.83946488,  -1.77257525,\n",
       "         -1.70568562,  -1.63879599,  -1.57190635,  -1.50501672,\n",
       "         -1.43812709,  -1.37123746,  -1.30434783,  -1.23745819,\n",
       "         -1.17056856,  -1.10367893,  -1.0367893 ,  -0.96989967,\n",
       "         -0.90301003,  -0.8361204 ,  -0.76923077,  -0.70234114,\n",
       "         -0.63545151,  -0.56856187,  -0.50167224,  -0.43478261,\n",
       "         -0.36789298,  -0.30100334,  -0.23411371,  -0.16722408,\n",
       "         -0.10033445,  -0.03344482,   0.03344482,   0.10033445,\n",
       "          0.16722408,   0.23411371,   0.30100334,   0.36789298,\n",
       "          0.43478261,   0.50167224,   0.56856187,   0.63545151,\n",
       "          0.70234114,   0.76923077,   0.8361204 ,   0.90301003,\n",
       "          0.96989967,   1.0367893 ,   1.10367893,   1.17056856,\n",
       "          1.23745819,   1.30434783,   1.37123746,   1.43812709,\n",
       "          1.50501672,   1.57190635,   1.63879599,   1.70568562,\n",
       "          1.77257525,   1.83946488,   1.90635452,   1.97324415,\n",
       "          2.04013378,   2.10702341,   2.17391304,   2.24080268,\n",
       "          2.30769231,   2.37458194,   2.44147157,   2.5083612 ,\n",
       "          2.57525084,   2.64214047,   2.7090301 ,   2.77591973,\n",
       "          2.84280936,   2.909699  ,   2.97658863,   3.04347826,\n",
       "          3.11036789,   3.17725753,   3.24414716,   3.31103679,\n",
       "          3.37792642,   3.44481605,   3.51170569,   3.57859532,\n",
       "          3.64548495,   3.71237458,   3.77926421,   3.84615385,\n",
       "          3.91304348,   3.97993311,   4.04682274,   4.11371237,\n",
       "          4.18060201,   4.24749164,   4.31438127,   4.3812709 ,\n",
       "          4.44816054,   4.51505017,   4.5819398 ,   4.64882943,\n",
       "          4.71571906,   4.7826087 ,   4.84949833,   4.91638796,\n",
       "          4.98327759,   5.05016722,   5.11705686,   5.18394649,\n",
       "          5.25083612,   5.31772575,   5.38461538,   5.45150502,\n",
       "          5.51839465,   5.58528428,   5.65217391,   5.71906355,\n",
       "          5.78595318,   5.85284281,   5.91973244,   5.98662207,\n",
       "          6.05351171,   6.12040134,   6.18729097,   6.2541806 ,\n",
       "          6.32107023,   6.38795987,   6.4548495 ,   6.52173913,\n",
       "          6.58862876,   6.65551839,   6.72240803,   6.78929766,\n",
       "          6.85618729,   6.92307692,   6.98996656,   7.05685619,\n",
       "          7.12374582,   7.19063545,   7.25752508,   7.32441472,\n",
       "          7.39130435,   7.45819398,   7.52508361,   7.59197324,\n",
       "          7.65886288,   7.72575251,   7.79264214,   7.85953177,\n",
       "          7.9264214 ,   7.99331104,   8.06020067,   8.1270903 ,\n",
       "          8.19397993,   8.26086957,   8.3277592 ,   8.39464883,\n",
       "          8.46153846,   8.52842809,   8.59531773,   8.66220736,\n",
       "          8.72909699,   8.79598662,   8.86287625,   8.92976589,\n",
       "          8.99665552,   9.06354515,   9.13043478,   9.19732441,\n",
       "          9.26421405,   9.33110368,   9.39799331,   9.46488294,\n",
       "          9.53177258,   9.59866221,   9.66555184,   9.73244147,\n",
       "          9.7993311 ,   9.86622074,   9.93311037,  10.        ]),\n",
       " array([-2.30000000e+01, -2.28662207e+01, -2.27324415e+01, -2.25986622e+01,\n",
       "        -2.24648829e+01, -2.23311037e+01, -2.21973244e+01, -2.20635452e+01,\n",
       "        -2.19297659e+01, -2.17959866e+01, -2.16622074e+01, -2.15284281e+01,\n",
       "        -2.13946488e+01, -2.12608696e+01, -2.11270903e+01, -2.09933110e+01,\n",
       "        -2.08595318e+01, -2.07257525e+01, -2.05919732e+01, -2.04581940e+01,\n",
       "        -2.03244147e+01, -2.01906355e+01, -2.00568562e+01, -1.99230769e+01,\n",
       "        -1.97892977e+01, -1.96555184e+01, -1.95217391e+01, -1.93879599e+01,\n",
       "        -1.92541806e+01, -1.91204013e+01, -1.89866221e+01, -1.88528428e+01,\n",
       "        -1.87190635e+01, -1.85852843e+01, -1.84515050e+01, -1.83177258e+01,\n",
       "        -1.81839465e+01, -1.80501672e+01, -1.79163880e+01, -1.77826087e+01,\n",
       "        -1.76488294e+01, -1.75150502e+01, -1.73812709e+01, -1.72474916e+01,\n",
       "        -1.71137124e+01, -1.69799331e+01, -1.68461538e+01, -1.67123746e+01,\n",
       "        -1.65785953e+01, -1.64448161e+01, -1.63110368e+01, -1.61772575e+01,\n",
       "        -1.60434783e+01, -1.59096990e+01, -1.57759197e+01, -1.56421405e+01,\n",
       "        -1.55083612e+01, -1.53745819e+01, -1.52408027e+01, -1.51070234e+01,\n",
       "        -1.49732441e+01, -1.48394649e+01, -1.47056856e+01, -1.45719064e+01,\n",
       "        -1.44381271e+01, -1.43043478e+01, -1.41705686e+01, -1.40367893e+01,\n",
       "        -1.39030100e+01, -1.37692308e+01, -1.36354515e+01, -1.35016722e+01,\n",
       "        -1.33678930e+01, -1.32341137e+01, -1.31003344e+01, -1.29665552e+01,\n",
       "        -1.28327759e+01, -1.26989967e+01, -1.25652174e+01, -1.24314381e+01,\n",
       "        -1.22976589e+01, -1.21638796e+01, -1.20301003e+01, -1.18963211e+01,\n",
       "        -1.17625418e+01, -1.16287625e+01, -1.14949833e+01, -1.13612040e+01,\n",
       "        -1.12274247e+01, -1.10936455e+01, -1.09598662e+01, -1.08260870e+01,\n",
       "        -1.06923077e+01, -1.05585284e+01, -1.04247492e+01, -1.02909699e+01,\n",
       "        -1.01571906e+01, -1.00234114e+01, -9.88963211e+00, -9.75585284e+00,\n",
       "        -9.62207358e+00, -9.48829431e+00, -9.35451505e+00, -9.22073579e+00,\n",
       "        -9.08695652e+00, -8.95317726e+00, -8.81939799e+00, -8.68561873e+00,\n",
       "        -8.55183946e+00, -8.41806020e+00, -8.28428094e+00, -8.15050167e+00,\n",
       "        -8.01672241e+00, -7.88294314e+00, -7.74916388e+00, -7.61538462e+00,\n",
       "        -7.48160535e+00, -7.34782609e+00, -7.21404682e+00, -7.08026756e+00,\n",
       "        -6.94648829e+00, -6.81270903e+00, -6.67892977e+00, -6.54515050e+00,\n",
       "        -6.41137124e+00, -6.27759197e+00, -6.14381271e+00, -6.01003344e+00,\n",
       "        -5.87625418e+00, -5.74247492e+00, -5.60869565e+00, -5.47491639e+00,\n",
       "        -5.34113712e+00, -5.20735786e+00, -5.07357860e+00, -4.93979933e+00,\n",
       "        -4.80602007e+00, -4.67224080e+00, -4.53846154e+00, -4.40468227e+00,\n",
       "        -4.27090301e+00, -4.13712375e+00, -4.00334448e+00, -3.86956522e+00,\n",
       "        -3.73578595e+00, -3.60200669e+00, -3.46822742e+00, -3.33444816e+00,\n",
       "        -3.20066890e+00, -3.06688963e+00, -2.93311037e+00, -2.79933110e+00,\n",
       "        -2.66555184e+00, -2.53177258e+00, -2.39799331e+00, -2.26421405e+00,\n",
       "        -2.13043478e+00, -1.99665552e+00, -1.86287625e+00, -1.72909699e+00,\n",
       "        -1.59531773e+00, -1.46153846e+00, -1.32775920e+00, -1.19397993e+00,\n",
       "        -1.06020067e+00, -9.26421405e-01, -7.92642140e-01, -6.58862876e-01,\n",
       "        -5.25083612e-01, -3.91304348e-01, -2.57525084e-01, -1.23745819e-01,\n",
       "         1.00334448e-02,  1.43812709e-01,  2.77591973e-01,  4.11371237e-01,\n",
       "         5.45150502e-01,  6.78929766e-01,  8.12709030e-01,  9.46488294e-01,\n",
       "         1.08026756e+00,  1.21404682e+00,  1.34782609e+00,  1.48160535e+00,\n",
       "         1.61538462e+00,  1.74916388e+00,  1.88294314e+00,  2.01672241e+00,\n",
       "         2.15050167e+00,  2.28428094e+00,  2.41806020e+00,  2.55183946e+00,\n",
       "         2.68561873e+00,  2.81939799e+00,  2.95317726e+00,  3.08695652e+00,\n",
       "         3.22073579e+00,  3.35451505e+00,  3.48829431e+00,  3.62207358e+00,\n",
       "         3.75585284e+00,  3.88963211e+00,  4.02341137e+00,  4.15719064e+00,\n",
       "         4.29096990e+00,  4.42474916e+00,  4.55852843e+00,  4.69230769e+00,\n",
       "         4.82608696e+00,  4.95986622e+00,  5.09364548e+00,  5.22742475e+00,\n",
       "         5.36120401e+00,  5.49498328e+00,  5.62876254e+00,  5.76254181e+00,\n",
       "         5.89632107e+00,  6.03010033e+00,  6.16387960e+00,  6.29765886e+00,\n",
       "         6.43143813e+00,  6.56521739e+00,  6.69899666e+00,  6.83277592e+00,\n",
       "         6.96655518e+00,  7.10033445e+00,  7.23411371e+00,  7.36789298e+00,\n",
       "         7.50167224e+00,  7.63545151e+00,  7.76923077e+00,  7.90301003e+00,\n",
       "         8.03678930e+00,  8.17056856e+00,  8.30434783e+00,  8.43812709e+00,\n",
       "         8.57190635e+00,  8.70568562e+00,  8.83946488e+00,  8.97324415e+00,\n",
       "         9.10702341e+00,  9.24080268e+00,  9.37458194e+00,  9.50836120e+00,\n",
       "         9.64214047e+00,  9.77591973e+00,  9.90969900e+00,  1.00434783e+01,\n",
       "         1.01772575e+01,  1.03110368e+01,  1.04448161e+01,  1.05785953e+01,\n",
       "         1.07123746e+01,  1.08461538e+01,  1.09799331e+01,  1.11137124e+01,\n",
       "         1.12474916e+01,  1.13812709e+01,  1.15150502e+01,  1.16488294e+01,\n",
       "         1.17826087e+01,  1.19163880e+01,  1.20501672e+01,  1.21839465e+01,\n",
       "         1.23177258e+01,  1.24515050e+01,  1.25852843e+01,  1.27190635e+01,\n",
       "         1.28528428e+01,  1.29866221e+01,  1.31204013e+01,  1.32541806e+01,\n",
       "         1.33879599e+01,  1.35217391e+01,  1.36555184e+01,  1.37892977e+01,\n",
       "         1.39230769e+01,  1.40568562e+01,  1.41906355e+01,  1.43244147e+01,\n",
       "         1.44581940e+01,  1.45919732e+01,  1.47257525e+01,  1.48595318e+01,\n",
       "         1.49933110e+01,  1.51270903e+01,  1.52608696e+01,  1.53946488e+01,\n",
       "         1.55284281e+01,  1.56622074e+01,  1.57959866e+01,  1.59297659e+01,\n",
       "         1.60635452e+01,  1.61973244e+01,  1.63311037e+01,  1.64648829e+01,\n",
       "         1.65986622e+01,  1.67324415e+01,  1.68662207e+01,  1.70000000e+01]))"
      ]
     },
     "execution_count": 64,
     "metadata": {},
     "output_type": "execute_result"
    }
   ],
   "source": [
    "pointA = (x,y)\n",
    "x = 0\n",
    "pointA"
   ]
  },
  {
   "cell_type": "code",
   "execution_count": 21,
   "metadata": {},
   "outputs": [
    {
     "data": {
      "text/plain": [
       "(0,\n",
       " array([-2.30000000e+01, -2.28662207e+01, -2.27324415e+01, -2.25986622e+01,\n",
       "        -2.24648829e+01, -2.23311037e+01, -2.21973244e+01, -2.20635452e+01,\n",
       "        -2.19297659e+01, -2.17959866e+01, -2.16622074e+01, -2.15284281e+01,\n",
       "        -2.13946488e+01, -2.12608696e+01, -2.11270903e+01, -2.09933110e+01,\n",
       "        -2.08595318e+01, -2.07257525e+01, -2.05919732e+01, -2.04581940e+01,\n",
       "        -2.03244147e+01, -2.01906355e+01, -2.00568562e+01, -1.99230769e+01,\n",
       "        -1.97892977e+01, -1.96555184e+01, -1.95217391e+01, -1.93879599e+01,\n",
       "        -1.92541806e+01, -1.91204013e+01, -1.89866221e+01, -1.88528428e+01,\n",
       "        -1.87190635e+01, -1.85852843e+01, -1.84515050e+01, -1.83177258e+01,\n",
       "        -1.81839465e+01, -1.80501672e+01, -1.79163880e+01, -1.77826087e+01,\n",
       "        -1.76488294e+01, -1.75150502e+01, -1.73812709e+01, -1.72474916e+01,\n",
       "        -1.71137124e+01, -1.69799331e+01, -1.68461538e+01, -1.67123746e+01,\n",
       "        -1.65785953e+01, -1.64448161e+01, -1.63110368e+01, -1.61772575e+01,\n",
       "        -1.60434783e+01, -1.59096990e+01, -1.57759197e+01, -1.56421405e+01,\n",
       "        -1.55083612e+01, -1.53745819e+01, -1.52408027e+01, -1.51070234e+01,\n",
       "        -1.49732441e+01, -1.48394649e+01, -1.47056856e+01, -1.45719064e+01,\n",
       "        -1.44381271e+01, -1.43043478e+01, -1.41705686e+01, -1.40367893e+01,\n",
       "        -1.39030100e+01, -1.37692308e+01, -1.36354515e+01, -1.35016722e+01,\n",
       "        -1.33678930e+01, -1.32341137e+01, -1.31003344e+01, -1.29665552e+01,\n",
       "        -1.28327759e+01, -1.26989967e+01, -1.25652174e+01, -1.24314381e+01,\n",
       "        -1.22976589e+01, -1.21638796e+01, -1.20301003e+01, -1.18963211e+01,\n",
       "        -1.17625418e+01, -1.16287625e+01, -1.14949833e+01, -1.13612040e+01,\n",
       "        -1.12274247e+01, -1.10936455e+01, -1.09598662e+01, -1.08260870e+01,\n",
       "        -1.06923077e+01, -1.05585284e+01, -1.04247492e+01, -1.02909699e+01,\n",
       "        -1.01571906e+01, -1.00234114e+01, -9.88963211e+00, -9.75585284e+00,\n",
       "        -9.62207358e+00, -9.48829431e+00, -9.35451505e+00, -9.22073579e+00,\n",
       "        -9.08695652e+00, -8.95317726e+00, -8.81939799e+00, -8.68561873e+00,\n",
       "        -8.55183946e+00, -8.41806020e+00, -8.28428094e+00, -8.15050167e+00,\n",
       "        -8.01672241e+00, -7.88294314e+00, -7.74916388e+00, -7.61538462e+00,\n",
       "        -7.48160535e+00, -7.34782609e+00, -7.21404682e+00, -7.08026756e+00,\n",
       "        -6.94648829e+00, -6.81270903e+00, -6.67892977e+00, -6.54515050e+00,\n",
       "        -6.41137124e+00, -6.27759197e+00, -6.14381271e+00, -6.01003344e+00,\n",
       "        -5.87625418e+00, -5.74247492e+00, -5.60869565e+00, -5.47491639e+00,\n",
       "        -5.34113712e+00, -5.20735786e+00, -5.07357860e+00, -4.93979933e+00,\n",
       "        -4.80602007e+00, -4.67224080e+00, -4.53846154e+00, -4.40468227e+00,\n",
       "        -4.27090301e+00, -4.13712375e+00, -4.00334448e+00, -3.86956522e+00,\n",
       "        -3.73578595e+00, -3.60200669e+00, -3.46822742e+00, -3.33444816e+00,\n",
       "        -3.20066890e+00, -3.06688963e+00, -2.93311037e+00, -2.79933110e+00,\n",
       "        -2.66555184e+00, -2.53177258e+00, -2.39799331e+00, -2.26421405e+00,\n",
       "        -2.13043478e+00, -1.99665552e+00, -1.86287625e+00, -1.72909699e+00,\n",
       "        -1.59531773e+00, -1.46153846e+00, -1.32775920e+00, -1.19397993e+00,\n",
       "        -1.06020067e+00, -9.26421405e-01, -7.92642140e-01, -6.58862876e-01,\n",
       "        -5.25083612e-01, -3.91304348e-01, -2.57525084e-01, -1.23745819e-01,\n",
       "         1.00334448e-02,  1.43812709e-01,  2.77591973e-01,  4.11371237e-01,\n",
       "         5.45150502e-01,  6.78929766e-01,  8.12709030e-01,  9.46488294e-01,\n",
       "         1.08026756e+00,  1.21404682e+00,  1.34782609e+00,  1.48160535e+00,\n",
       "         1.61538462e+00,  1.74916388e+00,  1.88294314e+00,  2.01672241e+00,\n",
       "         2.15050167e+00,  2.28428094e+00,  2.41806020e+00,  2.55183946e+00,\n",
       "         2.68561873e+00,  2.81939799e+00,  2.95317726e+00,  3.08695652e+00,\n",
       "         3.22073579e+00,  3.35451505e+00,  3.48829431e+00,  3.62207358e+00,\n",
       "         3.75585284e+00,  3.88963211e+00,  4.02341137e+00,  4.15719064e+00,\n",
       "         4.29096990e+00,  4.42474916e+00,  4.55852843e+00,  4.69230769e+00,\n",
       "         4.82608696e+00,  4.95986622e+00,  5.09364548e+00,  5.22742475e+00,\n",
       "         5.36120401e+00,  5.49498328e+00,  5.62876254e+00,  5.76254181e+00,\n",
       "         5.89632107e+00,  6.03010033e+00,  6.16387960e+00,  6.29765886e+00,\n",
       "         6.43143813e+00,  6.56521739e+00,  6.69899666e+00,  6.83277592e+00,\n",
       "         6.96655518e+00,  7.10033445e+00,  7.23411371e+00,  7.36789298e+00,\n",
       "         7.50167224e+00,  7.63545151e+00,  7.76923077e+00,  7.90301003e+00,\n",
       "         8.03678930e+00,  8.17056856e+00,  8.30434783e+00,  8.43812709e+00,\n",
       "         8.57190635e+00,  8.70568562e+00,  8.83946488e+00,  8.97324415e+00,\n",
       "         9.10702341e+00,  9.24080268e+00,  9.37458194e+00,  9.50836120e+00,\n",
       "         9.64214047e+00,  9.77591973e+00,  9.90969900e+00,  1.00434783e+01,\n",
       "         1.01772575e+01,  1.03110368e+01,  1.04448161e+01,  1.05785953e+01,\n",
       "         1.07123746e+01,  1.08461538e+01,  1.09799331e+01,  1.11137124e+01,\n",
       "         1.12474916e+01,  1.13812709e+01,  1.15150502e+01,  1.16488294e+01,\n",
       "         1.17826087e+01,  1.19163880e+01,  1.20501672e+01,  1.21839465e+01,\n",
       "         1.23177258e+01,  1.24515050e+01,  1.25852843e+01,  1.27190635e+01,\n",
       "         1.28528428e+01,  1.29866221e+01,  1.31204013e+01,  1.32541806e+01,\n",
       "         1.33879599e+01,  1.35217391e+01,  1.36555184e+01,  1.37892977e+01,\n",
       "         1.39230769e+01,  1.40568562e+01,  1.41906355e+01,  1.43244147e+01,\n",
       "         1.44581940e+01,  1.45919732e+01,  1.47257525e+01,  1.48595318e+01,\n",
       "         1.49933110e+01,  1.51270903e+01,  1.52608696e+01,  1.53946488e+01,\n",
       "         1.55284281e+01,  1.56622074e+01,  1.57959866e+01,  1.59297659e+01,\n",
       "         1.60635452e+01,  1.61973244e+01,  1.63311037e+01,  1.64648829e+01,\n",
       "         1.65986622e+01,  1.67324415e+01,  1.68662207e+01,  1.70000000e+01]))"
      ]
     },
     "execution_count": 21,
     "metadata": {},
     "output_type": "execute_result"
    }
   ],
   "source": [
    "pointB = (x,y)\n",
    "x = 1\n",
    "pointB"
   ]
  },
  {
   "cell_type": "code",
   "execution_count": 22,
   "metadata": {},
   "outputs": [
    {
     "data": {
      "text/plain": [
       "(1,\n",
       " array([-2.30000000e+01, -2.28662207e+01, -2.27324415e+01, -2.25986622e+01,\n",
       "        -2.24648829e+01, -2.23311037e+01, -2.21973244e+01, -2.20635452e+01,\n",
       "        -2.19297659e+01, -2.17959866e+01, -2.16622074e+01, -2.15284281e+01,\n",
       "        -2.13946488e+01, -2.12608696e+01, -2.11270903e+01, -2.09933110e+01,\n",
       "        -2.08595318e+01, -2.07257525e+01, -2.05919732e+01, -2.04581940e+01,\n",
       "        -2.03244147e+01, -2.01906355e+01, -2.00568562e+01, -1.99230769e+01,\n",
       "        -1.97892977e+01, -1.96555184e+01, -1.95217391e+01, -1.93879599e+01,\n",
       "        -1.92541806e+01, -1.91204013e+01, -1.89866221e+01, -1.88528428e+01,\n",
       "        -1.87190635e+01, -1.85852843e+01, -1.84515050e+01, -1.83177258e+01,\n",
       "        -1.81839465e+01, -1.80501672e+01, -1.79163880e+01, -1.77826087e+01,\n",
       "        -1.76488294e+01, -1.75150502e+01, -1.73812709e+01, -1.72474916e+01,\n",
       "        -1.71137124e+01, -1.69799331e+01, -1.68461538e+01, -1.67123746e+01,\n",
       "        -1.65785953e+01, -1.64448161e+01, -1.63110368e+01, -1.61772575e+01,\n",
       "        -1.60434783e+01, -1.59096990e+01, -1.57759197e+01, -1.56421405e+01,\n",
       "        -1.55083612e+01, -1.53745819e+01, -1.52408027e+01, -1.51070234e+01,\n",
       "        -1.49732441e+01, -1.48394649e+01, -1.47056856e+01, -1.45719064e+01,\n",
       "        -1.44381271e+01, -1.43043478e+01, -1.41705686e+01, -1.40367893e+01,\n",
       "        -1.39030100e+01, -1.37692308e+01, -1.36354515e+01, -1.35016722e+01,\n",
       "        -1.33678930e+01, -1.32341137e+01, -1.31003344e+01, -1.29665552e+01,\n",
       "        -1.28327759e+01, -1.26989967e+01, -1.25652174e+01, -1.24314381e+01,\n",
       "        -1.22976589e+01, -1.21638796e+01, -1.20301003e+01, -1.18963211e+01,\n",
       "        -1.17625418e+01, -1.16287625e+01, -1.14949833e+01, -1.13612040e+01,\n",
       "        -1.12274247e+01, -1.10936455e+01, -1.09598662e+01, -1.08260870e+01,\n",
       "        -1.06923077e+01, -1.05585284e+01, -1.04247492e+01, -1.02909699e+01,\n",
       "        -1.01571906e+01, -1.00234114e+01, -9.88963211e+00, -9.75585284e+00,\n",
       "        -9.62207358e+00, -9.48829431e+00, -9.35451505e+00, -9.22073579e+00,\n",
       "        -9.08695652e+00, -8.95317726e+00, -8.81939799e+00, -8.68561873e+00,\n",
       "        -8.55183946e+00, -8.41806020e+00, -8.28428094e+00, -8.15050167e+00,\n",
       "        -8.01672241e+00, -7.88294314e+00, -7.74916388e+00, -7.61538462e+00,\n",
       "        -7.48160535e+00, -7.34782609e+00, -7.21404682e+00, -7.08026756e+00,\n",
       "        -6.94648829e+00, -6.81270903e+00, -6.67892977e+00, -6.54515050e+00,\n",
       "        -6.41137124e+00, -6.27759197e+00, -6.14381271e+00, -6.01003344e+00,\n",
       "        -5.87625418e+00, -5.74247492e+00, -5.60869565e+00, -5.47491639e+00,\n",
       "        -5.34113712e+00, -5.20735786e+00, -5.07357860e+00, -4.93979933e+00,\n",
       "        -4.80602007e+00, -4.67224080e+00, -4.53846154e+00, -4.40468227e+00,\n",
       "        -4.27090301e+00, -4.13712375e+00, -4.00334448e+00, -3.86956522e+00,\n",
       "        -3.73578595e+00, -3.60200669e+00, -3.46822742e+00, -3.33444816e+00,\n",
       "        -3.20066890e+00, -3.06688963e+00, -2.93311037e+00, -2.79933110e+00,\n",
       "        -2.66555184e+00, -2.53177258e+00, -2.39799331e+00, -2.26421405e+00,\n",
       "        -2.13043478e+00, -1.99665552e+00, -1.86287625e+00, -1.72909699e+00,\n",
       "        -1.59531773e+00, -1.46153846e+00, -1.32775920e+00, -1.19397993e+00,\n",
       "        -1.06020067e+00, -9.26421405e-01, -7.92642140e-01, -6.58862876e-01,\n",
       "        -5.25083612e-01, -3.91304348e-01, -2.57525084e-01, -1.23745819e-01,\n",
       "         1.00334448e-02,  1.43812709e-01,  2.77591973e-01,  4.11371237e-01,\n",
       "         5.45150502e-01,  6.78929766e-01,  8.12709030e-01,  9.46488294e-01,\n",
       "         1.08026756e+00,  1.21404682e+00,  1.34782609e+00,  1.48160535e+00,\n",
       "         1.61538462e+00,  1.74916388e+00,  1.88294314e+00,  2.01672241e+00,\n",
       "         2.15050167e+00,  2.28428094e+00,  2.41806020e+00,  2.55183946e+00,\n",
       "         2.68561873e+00,  2.81939799e+00,  2.95317726e+00,  3.08695652e+00,\n",
       "         3.22073579e+00,  3.35451505e+00,  3.48829431e+00,  3.62207358e+00,\n",
       "         3.75585284e+00,  3.88963211e+00,  4.02341137e+00,  4.15719064e+00,\n",
       "         4.29096990e+00,  4.42474916e+00,  4.55852843e+00,  4.69230769e+00,\n",
       "         4.82608696e+00,  4.95986622e+00,  5.09364548e+00,  5.22742475e+00,\n",
       "         5.36120401e+00,  5.49498328e+00,  5.62876254e+00,  5.76254181e+00,\n",
       "         5.89632107e+00,  6.03010033e+00,  6.16387960e+00,  6.29765886e+00,\n",
       "         6.43143813e+00,  6.56521739e+00,  6.69899666e+00,  6.83277592e+00,\n",
       "         6.96655518e+00,  7.10033445e+00,  7.23411371e+00,  7.36789298e+00,\n",
       "         7.50167224e+00,  7.63545151e+00,  7.76923077e+00,  7.90301003e+00,\n",
       "         8.03678930e+00,  8.17056856e+00,  8.30434783e+00,  8.43812709e+00,\n",
       "         8.57190635e+00,  8.70568562e+00,  8.83946488e+00,  8.97324415e+00,\n",
       "         9.10702341e+00,  9.24080268e+00,  9.37458194e+00,  9.50836120e+00,\n",
       "         9.64214047e+00,  9.77591973e+00,  9.90969900e+00,  1.00434783e+01,\n",
       "         1.01772575e+01,  1.03110368e+01,  1.04448161e+01,  1.05785953e+01,\n",
       "         1.07123746e+01,  1.08461538e+01,  1.09799331e+01,  1.11137124e+01,\n",
       "         1.12474916e+01,  1.13812709e+01,  1.15150502e+01,  1.16488294e+01,\n",
       "         1.17826087e+01,  1.19163880e+01,  1.20501672e+01,  1.21839465e+01,\n",
       "         1.23177258e+01,  1.24515050e+01,  1.25852843e+01,  1.27190635e+01,\n",
       "         1.28528428e+01,  1.29866221e+01,  1.31204013e+01,  1.32541806e+01,\n",
       "         1.33879599e+01,  1.35217391e+01,  1.36555184e+01,  1.37892977e+01,\n",
       "         1.39230769e+01,  1.40568562e+01,  1.41906355e+01,  1.43244147e+01,\n",
       "         1.44581940e+01,  1.45919732e+01,  1.47257525e+01,  1.48595318e+01,\n",
       "         1.49933110e+01,  1.51270903e+01,  1.52608696e+01,  1.53946488e+01,\n",
       "         1.55284281e+01,  1.56622074e+01,  1.57959866e+01,  1.59297659e+01,\n",
       "         1.60635452e+01,  1.61973244e+01,  1.63311037e+01,  1.64648829e+01,\n",
       "         1.65986622e+01,  1.67324415e+01,  1.68662207e+01,  1.70000000e+01]))"
      ]
     },
     "execution_count": 22,
     "metadata": {},
     "output_type": "execute_result"
    }
   ],
   "source": [
    "pointC = (x,y)\n",
    "x = 2\n",
    "pointC"
   ]
  },
  {
   "cell_type": "markdown",
   "metadata": {},
   "source": [
    "\n",
    "y = 2 * x -3\n",
    "A = (0,-3)\n",
    "B = (1,-1)\n",
    "C = (2,1)"
   ]
  },
  {
   "cell_type": "markdown",
   "metadata": {},
   "source": [
    "#### 2.4. Where do they intersect?"
   ]
  },
  {
   "cell_type": "markdown",
   "metadata": {},
   "source": [
    "2*x -3 = -3*x+12\n",
    "5*x = 12\n",
    "x = 3\n",
    "y_1 = 3"
   ]
  },
  {
   "cell_type": "markdown",
   "metadata": {},
   "source": [
    "#### 2.5. BONUS "
   ]
  },
  {
   "cell_type": "markdown",
   "metadata": {},
   "source": [
    "My yearly salary has increased **linearly** with my age:  \n",
    "When I was 21 years old, I did 10000\\\\$ / year    \n",
    "Today I am 39 years old, I am doing 33400\\\\$ / year  \n",
    "How much will I do when I get 50 years old?"
   ]
  },
  {
   "cell_type": "markdown",
   "metadata": {},
   "source": [
    "\n",
    "$10000 = m*21+n$\n",
    "$33400 = m*39+n$"
   ]
  },
  {
   "cell_type": "markdown",
   "metadata": {},
   "source": [
    "$23400 = 18*m$"
   ]
  },
  {
   "cell_type": "markdown",
   "metadata": {},
   "source": [
    "$n = -17300$"
   ]
  },
  {
   "cell_type": "markdown",
   "metadata": {},
   "source": [
    "Salary change: $1300x -17300$"
   ]
  },
  {
   "cell_type": "code",
   "execution_count": 65,
   "metadata": {},
   "outputs": [],
   "source": [
    "x = np.linspace(0, 60,200)"
   ]
  },
  {
   "cell_type": "markdown",
   "metadata": {},
   "source": [
    "y = 1300 * x - 17300 "
   ]
  },
  {
   "cell_type": "code",
   "execution_count": 66,
   "metadata": {},
   "outputs": [
    {
     "ename": "ValueError",
     "evalue": "x and y must have same first dimension, but have shapes (200,) and (300,)",
     "output_type": "error",
     "traceback": [
      "\u001b[0;31m---------------------------------------------------------------------------\u001b[0m",
      "\u001b[0;31mValueError\u001b[0m                                Traceback (most recent call last)",
      "\u001b[0;32m<ipython-input-66-97456cc9716d>\u001b[0m in \u001b[0;36m<module>\u001b[0;34m\u001b[0m\n\u001b[0;32m----> 1\u001b[0;31m \u001b[0mplt\u001b[0m\u001b[0;34m.\u001b[0m\u001b[0mplot\u001b[0m\u001b[0;34m(\u001b[0m\u001b[0mx\u001b[0m\u001b[0;34m,\u001b[0m \u001b[0my_1\u001b[0m\u001b[0;34m,\u001b[0m \u001b[0;34m\"-\"\u001b[0m\u001b[0;34m)\u001b[0m\u001b[0;34m\u001b[0m\u001b[0;34m\u001b[0m\u001b[0m\n\u001b[0m\u001b[1;32m      2\u001b[0m \u001b[0;34m\u001b[0m\u001b[0m\n\u001b[1;32m      3\u001b[0m \u001b[0mplt\u001b[0m\u001b[0;34m.\u001b[0m\u001b[0mplot\u001b[0m\u001b[0;34m(\u001b[0m\u001b[0;36m21\u001b[0m\u001b[0;34m,\u001b[0m \u001b[0;36m10000\u001b[0m\u001b[0;34m,\u001b[0m \u001b[0;34m\"o\"\u001b[0m\u001b[0;34m,\u001b[0m \u001b[0mmarkersize\u001b[0m\u001b[0;34m=\u001b[0m\u001b[0;36m10\u001b[0m\u001b[0;34m)\u001b[0m\u001b[0;34m\u001b[0m\u001b[0;34m\u001b[0m\u001b[0m\n\u001b[1;32m      4\u001b[0m \u001b[0mplt\u001b[0m\u001b[0;34m.\u001b[0m\u001b[0mplot\u001b[0m\u001b[0;34m(\u001b[0m\u001b[0;36m39\u001b[0m\u001b[0;34m,\u001b[0m \u001b[0;36m33400\u001b[0m\u001b[0;34m,\u001b[0m \u001b[0;34m\"o\"\u001b[0m\u001b[0;34m,\u001b[0m \u001b[0mmarkersize\u001b[0m\u001b[0;34m=\u001b[0m\u001b[0;36m10\u001b[0m\u001b[0;34m)\u001b[0m\u001b[0;34m\u001b[0m\u001b[0;34m\u001b[0m\u001b[0m\n\u001b[1;32m      5\u001b[0m \u001b[0mplt\u001b[0m\u001b[0;34m.\u001b[0m\u001b[0mlegend\u001b[0m\u001b[0;34m(\u001b[0m\u001b[0;34m)\u001b[0m\u001b[0;34m\u001b[0m\u001b[0;34m\u001b[0m\u001b[0m\n",
      "\u001b[0;32m/usr/local/Caskroom/miniconda/base/envs/ironhack/lib/python3.8/site-packages/matplotlib/pyplot.py\u001b[0m in \u001b[0;36mplot\u001b[0;34m(scalex, scaley, data, *args, **kwargs)\u001b[0m\n\u001b[1;32m   2838\u001b[0m \u001b[0;34m@\u001b[0m\u001b[0m_copy_docstring_and_deprecators\u001b[0m\u001b[0;34m(\u001b[0m\u001b[0mAxes\u001b[0m\u001b[0;34m.\u001b[0m\u001b[0mplot\u001b[0m\u001b[0;34m)\u001b[0m\u001b[0;34m\u001b[0m\u001b[0;34m\u001b[0m\u001b[0m\n\u001b[1;32m   2839\u001b[0m \u001b[0;32mdef\u001b[0m \u001b[0mplot\u001b[0m\u001b[0;34m(\u001b[0m\u001b[0;34m*\u001b[0m\u001b[0margs\u001b[0m\u001b[0;34m,\u001b[0m \u001b[0mscalex\u001b[0m\u001b[0;34m=\u001b[0m\u001b[0;32mTrue\u001b[0m\u001b[0;34m,\u001b[0m \u001b[0mscaley\u001b[0m\u001b[0;34m=\u001b[0m\u001b[0;32mTrue\u001b[0m\u001b[0;34m,\u001b[0m \u001b[0mdata\u001b[0m\u001b[0;34m=\u001b[0m\u001b[0;32mNone\u001b[0m\u001b[0;34m,\u001b[0m \u001b[0;34m**\u001b[0m\u001b[0mkwargs\u001b[0m\u001b[0;34m)\u001b[0m\u001b[0;34m:\u001b[0m\u001b[0;34m\u001b[0m\u001b[0;34m\u001b[0m\u001b[0m\n\u001b[0;32m-> 2840\u001b[0;31m     return gca().plot(\n\u001b[0m\u001b[1;32m   2841\u001b[0m         \u001b[0;34m*\u001b[0m\u001b[0margs\u001b[0m\u001b[0;34m,\u001b[0m \u001b[0mscalex\u001b[0m\u001b[0;34m=\u001b[0m\u001b[0mscalex\u001b[0m\u001b[0;34m,\u001b[0m \u001b[0mscaley\u001b[0m\u001b[0;34m=\u001b[0m\u001b[0mscaley\u001b[0m\u001b[0;34m,\u001b[0m\u001b[0;34m\u001b[0m\u001b[0;34m\u001b[0m\u001b[0m\n\u001b[1;32m   2842\u001b[0m         **({\"data\": data} if data is not None else {}), **kwargs)\n",
      "\u001b[0;32m/usr/local/Caskroom/miniconda/base/envs/ironhack/lib/python3.8/site-packages/matplotlib/axes/_axes.py\u001b[0m in \u001b[0;36mplot\u001b[0;34m(self, scalex, scaley, data, *args, **kwargs)\u001b[0m\n\u001b[1;32m   1741\u001b[0m         \"\"\"\n\u001b[1;32m   1742\u001b[0m         \u001b[0mkwargs\u001b[0m \u001b[0;34m=\u001b[0m \u001b[0mcbook\u001b[0m\u001b[0;34m.\u001b[0m\u001b[0mnormalize_kwargs\u001b[0m\u001b[0;34m(\u001b[0m\u001b[0mkwargs\u001b[0m\u001b[0;34m,\u001b[0m \u001b[0mmlines\u001b[0m\u001b[0;34m.\u001b[0m\u001b[0mLine2D\u001b[0m\u001b[0;34m)\u001b[0m\u001b[0;34m\u001b[0m\u001b[0;34m\u001b[0m\u001b[0m\n\u001b[0;32m-> 1743\u001b[0;31m         \u001b[0mlines\u001b[0m \u001b[0;34m=\u001b[0m \u001b[0;34m[\u001b[0m\u001b[0;34m*\u001b[0m\u001b[0mself\u001b[0m\u001b[0;34m.\u001b[0m\u001b[0m_get_lines\u001b[0m\u001b[0;34m(\u001b[0m\u001b[0;34m*\u001b[0m\u001b[0margs\u001b[0m\u001b[0;34m,\u001b[0m \u001b[0mdata\u001b[0m\u001b[0;34m=\u001b[0m\u001b[0mdata\u001b[0m\u001b[0;34m,\u001b[0m \u001b[0;34m**\u001b[0m\u001b[0mkwargs\u001b[0m\u001b[0;34m)\u001b[0m\u001b[0;34m]\u001b[0m\u001b[0;34m\u001b[0m\u001b[0;34m\u001b[0m\u001b[0m\n\u001b[0m\u001b[1;32m   1744\u001b[0m         \u001b[0;32mfor\u001b[0m \u001b[0mline\u001b[0m \u001b[0;32min\u001b[0m \u001b[0mlines\u001b[0m\u001b[0;34m:\u001b[0m\u001b[0;34m\u001b[0m\u001b[0;34m\u001b[0m\u001b[0m\n\u001b[1;32m   1745\u001b[0m             \u001b[0mself\u001b[0m\u001b[0;34m.\u001b[0m\u001b[0madd_line\u001b[0m\u001b[0;34m(\u001b[0m\u001b[0mline\u001b[0m\u001b[0;34m)\u001b[0m\u001b[0;34m\u001b[0m\u001b[0;34m\u001b[0m\u001b[0m\n",
      "\u001b[0;32m/usr/local/Caskroom/miniconda/base/envs/ironhack/lib/python3.8/site-packages/matplotlib/axes/_base.py\u001b[0m in \u001b[0;36m__call__\u001b[0;34m(self, data, *args, **kwargs)\u001b[0m\n\u001b[1;32m    271\u001b[0m                 \u001b[0mthis\u001b[0m \u001b[0;34m+=\u001b[0m \u001b[0margs\u001b[0m\u001b[0;34m[\u001b[0m\u001b[0;36m0\u001b[0m\u001b[0;34m]\u001b[0m\u001b[0;34m,\u001b[0m\u001b[0;34m\u001b[0m\u001b[0;34m\u001b[0m\u001b[0m\n\u001b[1;32m    272\u001b[0m                 \u001b[0margs\u001b[0m \u001b[0;34m=\u001b[0m \u001b[0margs\u001b[0m\u001b[0;34m[\u001b[0m\u001b[0;36m1\u001b[0m\u001b[0;34m:\u001b[0m\u001b[0;34m]\u001b[0m\u001b[0;34m\u001b[0m\u001b[0;34m\u001b[0m\u001b[0m\n\u001b[0;32m--> 273\u001b[0;31m             \u001b[0;32myield\u001b[0m \u001b[0;32mfrom\u001b[0m \u001b[0mself\u001b[0m\u001b[0;34m.\u001b[0m\u001b[0m_plot_args\u001b[0m\u001b[0;34m(\u001b[0m\u001b[0mthis\u001b[0m\u001b[0;34m,\u001b[0m \u001b[0mkwargs\u001b[0m\u001b[0;34m)\u001b[0m\u001b[0;34m\u001b[0m\u001b[0;34m\u001b[0m\u001b[0m\n\u001b[0m\u001b[1;32m    274\u001b[0m \u001b[0;34m\u001b[0m\u001b[0m\n\u001b[1;32m    275\u001b[0m     \u001b[0;32mdef\u001b[0m \u001b[0mget_next_color\u001b[0m\u001b[0;34m(\u001b[0m\u001b[0mself\u001b[0m\u001b[0;34m)\u001b[0m\u001b[0;34m:\u001b[0m\u001b[0;34m\u001b[0m\u001b[0;34m\u001b[0m\u001b[0m\n",
      "\u001b[0;32m/usr/local/Caskroom/miniconda/base/envs/ironhack/lib/python3.8/site-packages/matplotlib/axes/_base.py\u001b[0m in \u001b[0;36m_plot_args\u001b[0;34m(self, tup, kwargs)\u001b[0m\n\u001b[1;32m    397\u001b[0m \u001b[0;34m\u001b[0m\u001b[0m\n\u001b[1;32m    398\u001b[0m         \u001b[0;32mif\u001b[0m \u001b[0mx\u001b[0m\u001b[0;34m.\u001b[0m\u001b[0mshape\u001b[0m\u001b[0;34m[\u001b[0m\u001b[0;36m0\u001b[0m\u001b[0;34m]\u001b[0m \u001b[0;34m!=\u001b[0m \u001b[0my\u001b[0m\u001b[0;34m.\u001b[0m\u001b[0mshape\u001b[0m\u001b[0;34m[\u001b[0m\u001b[0;36m0\u001b[0m\u001b[0;34m]\u001b[0m\u001b[0;34m:\u001b[0m\u001b[0;34m\u001b[0m\u001b[0;34m\u001b[0m\u001b[0m\n\u001b[0;32m--> 399\u001b[0;31m             raise ValueError(f\"x and y must have same first dimension, but \"\n\u001b[0m\u001b[1;32m    400\u001b[0m                              f\"have shapes {x.shape} and {y.shape}\")\n\u001b[1;32m    401\u001b[0m         \u001b[0;32mif\u001b[0m \u001b[0mx\u001b[0m\u001b[0;34m.\u001b[0m\u001b[0mndim\u001b[0m \u001b[0;34m>\u001b[0m \u001b[0;36m2\u001b[0m \u001b[0;32mor\u001b[0m \u001b[0my\u001b[0m\u001b[0;34m.\u001b[0m\u001b[0mndim\u001b[0m \u001b[0;34m>\u001b[0m \u001b[0;36m2\u001b[0m\u001b[0;34m:\u001b[0m\u001b[0;34m\u001b[0m\u001b[0;34m\u001b[0m\u001b[0m\n",
      "\u001b[0;31mValueError\u001b[0m: x and y must have same first dimension, but have shapes (200,) and (300,)"
     ]
    },
    {
     "data": {
      "image/png": "[encoded data removed]",
      "text/plain": [
       "<Figure size 432x288 with 1 Axes>"
      ]
     },
     "metadata": {
      "needs_background": "light"
     },
     "output_type": "display_data"
    }
   ],
   "source": [
    "plt.plot(x, y_1, \"-\")\n",
    "\n",
    "plt.plot(21, 10000, \"o\", markersize=10)\n",
    "plt.plot(39, 33400, \"o\", markersize=10)\n",
    "plt.legend()"
   ]
  },
  {
   "cell_type": "code",
   "execution_count": null,
   "metadata": {},
   "outputs": [],
   "source": []
  },
  {
   "cell_type": "code",
   "execution_count": null,
   "metadata": {},
   "outputs": [],
   "source": []
  },
  {
   "cell_type": "markdown",
   "metadata": {},
   "source": [
    "### 3. Polynomials"
   ]
  },
  {
   "cell_type": "markdown",
   "metadata": {},
   "source": [
    "Consider these different degree polynomials:  \n",
    "$y_2=x^2-3x-10$  \n",
    "$y_3=x^3-2x^2+5x+1$  \n",
    "$y_4=x^4-x^3+x^2-x+1$  "
   ]
  },
  {
   "cell_type": "code",
   "execution_count": 33,
   "metadata": {},
   "outputs": [],
   "source": [
    "x = np.linspace(-10,10,100)"
   ]
  },
  {
   "cell_type": "code",
   "execution_count": 35,
   "metadata": {
    "scrolled": true
   },
   "outputs": [
    {
     "ename": "SyntaxError",
     "evalue": "invalid character in identifier (<ipython-input-35-92e06372269e>, line 1)",
     "output_type": "error",
     "traceback": [
      "\u001b[0;36m  File \u001b[0;32m\"<ipython-input-35-92e06372269e>\"\u001b[0;36m, line \u001b[0;32m1\u001b[0m\n\u001b[0;31m    𝑦2=𝑥**2−3*x - 10\u001b[0m\n\u001b[0m            ^\u001b[0m\n\u001b[0;31mSyntaxError\u001b[0m\u001b[0;31m:\u001b[0m invalid character in identifier\n"
     ]
    }
   ],
   "source": [
    "𝑦2=𝑥**2−3*x - 10\n",
    "𝑦3=𝑥**3−2*𝑥**2+5𝑥+1\n",
    "𝑦4=𝑥**4−𝑥**3+𝑥**2-𝑥+1"
   ]
  },
  {
   "cell_type": "code",
   "execution_count": 44,
   "metadata": {},
   "outputs": [
    {
     "ename": "NameError",
     "evalue": "name 'initialize_grid' is not defined",
     "output_type": "error",
     "traceback": [
      "\u001b[0;31m---------------------------------------------------------------------------\u001b[0m",
      "\u001b[0;31mNameError\u001b[0m                                 Traceback (most recent call last)",
      "\u001b[0;32m<ipython-input-44-10b85968ec0d>\u001b[0m in \u001b[0;36m<module>\u001b[0;34m\u001b[0m\n\u001b[0;32m----> 1\u001b[0;31m \u001b[0minitialize_grid\u001b[0m\u001b[0;34m(\u001b[0m\u001b[0;34m)\u001b[0m\u001b[0;34m\u001b[0m\u001b[0;34m\u001b[0m\u001b[0m\n\u001b[0m\u001b[1;32m      2\u001b[0m \u001b[0max\u001b[0m\u001b[0;34m.\u001b[0m\u001b[0mset\u001b[0m\u001b[0;34m.\u001b[0m\u001b[0mxlim\u001b[0m\u001b[0;34m(\u001b[0m\u001b[0;34m[\u001b[0m\u001b[0;34m-\u001b[0m\u001b[0;36m10\u001b[0m\u001b[0;34m,\u001b[0m\u001b[0;36m10\u001b[0m\u001b[0;34m]\u001b[0m\u001b[0;34m)\u001b[0m\u001b[0;34m\u001b[0m\u001b[0;34m\u001b[0m\u001b[0m\n\u001b[1;32m      3\u001b[0m \u001b[0max\u001b[0m\u001b[0;34m.\u001b[0m\u001b[0mseet_yslim\u001b[0m\u001b[0;34m(\u001b[0m\u001b[0;34m[\u001b[0m\u001b[0;34m-\u001b[0m\u001b[0;36m10\u001b[0m\u001b[0;34m,\u001b[0m\u001b[0;36m20\u001b[0m\u001b[0;34m]\u001b[0m\u001b[0;34m)\u001b[0m\u001b[0;34m\u001b[0m\u001b[0;34m\u001b[0m\u001b[0m\n\u001b[1;32m      4\u001b[0m \u001b[0mplt\u001b[0m\u001b[0;34m.\u001b[0m\u001b[0mplot\u001b[0m\u001b[0;34m(\u001b[0m\u001b[0mx\u001b[0m\u001b[0;34m,\u001b[0m \u001b[0my2\u001b[0m\u001b[0;34m,\u001b[0m \u001b[0;34m\"-\"\u001b[0m\u001b[0;34m,\u001b[0m \u001b[0mlabel\u001b[0m\u001b[0;34m=\u001b[0m\u001b[0;34m\"degree 2\"\u001b[0m\u001b[0;34m)\u001b[0m\u001b[0;34m\u001b[0m\u001b[0;34m\u001b[0m\u001b[0m\n\u001b[1;32m      5\u001b[0m \u001b[0mplt\u001b[0m\u001b[0;34m.\u001b[0m\u001b[0mplot\u001b[0m\u001b[0;34m(\u001b[0m\u001b[0mx\u001b[0m\u001b[0;34m,\u001b[0m \u001b[0my3\u001b[0m\u001b[0;34m,\u001b[0m \u001b[0;34m\"-\"\u001b[0m\u001b[0;34m,\u001b[0m \u001b[0mlabel\u001b[0m\u001b[0;34m=\u001b[0m\u001b[0;34m\"degree 3\"\u001b[0m\u001b[0;34m)\u001b[0m\u001b[0;34m\u001b[0m\u001b[0;34m\u001b[0m\u001b[0m\n",
      "\u001b[0;31mNameError\u001b[0m: name 'initialize_grid' is not defined"
     ]
    }
   ],
   "source": [
    "initialize_grid()\n",
    "ax.set.xlim([-10,10])\n",
    "ax.seet_yslim([-10,20])\n",
    "plt.plot(x, y2, \"-\", label=\"degree 2\")\n",
    "plt.plot(x, y3, \"-\", label=\"degree 3\")\n",
    "plt.plot(x, y4, \"-\", label=\"degree 4\")\n",
    "plt-legend()"
   ]
  },
  {
   "cell_type": "markdown",
   "metadata": {},
   "source": [
    "#### 3.1. Plot them"
   ]
  },
  {
   "cell_type": "code",
   "execution_count": null,
   "metadata": {},
   "outputs": [],
   "source": []
  },
  {
   "cell_type": "markdown",
   "metadata": {},
   "source": [
    "#### 3.2. Which one takes a bigger value on $x=0$? On $x=2$? On $x=100$?"
   ]
  },
  {
   "cell_type": "markdown",
   "metadata": {},
   "source": [
    "I can see in graphic that:\n",
    "x = 0 has highest value in both y3 and y4. \n",
    "x = 2 is unclear\n",
    "x = 100 "
   ]
  },
  {
   "cell_type": "code",
   "execution_count": 37,
   "metadata": {},
   "outputs": [],
   "source": [
    "def y22(x):\n",
    "    return x^2-3*x-10\n",
    "def y33(x):\n",
    "    return x^3-2*x^2+5*x+1 \n",
    "def y44(x):\n",
    "    return x^4-x^3+x^2-x+1 "
   ]
  },
  {
   "cell_type": "code",
   "execution_count": 42,
   "metadata": {},
   "outputs": [
    {
     "ename": "NameError",
     "evalue": "name 'y22' is not defined",
     "output_type": "error",
     "traceback": [
      "\u001b[0;31m---------------------------------------------------------------------------\u001b[0m",
      "\u001b[0;31mNameError\u001b[0m                                 Traceback (most recent call last)",
      "\u001b[0;32m<ipython-input-42-629ffddb05c7>\u001b[0m in \u001b[0;36m<module>\u001b[0;34m\u001b[0m\n\u001b[0;32m----> 1\u001b[0;31m \u001b[0my22\u001b[0m\u001b[0;34m(\u001b[0m\u001b[0;36m2\u001b[0m\u001b[0;34m)\u001b[0m\u001b[0;34m,\u001b[0m\u001b[0my33\u001b[0m\u001b[0;34m(\u001b[0m\u001b[0;36m2\u001b[0m\u001b[0;34m)\u001b[0m\u001b[0;34m,\u001b[0m\u001b[0my44\u001b[0m\u001b[0;34m(\u001b[0m\u001b[0;36m2\u001b[0m\u001b[0;34m)\u001b[0m\u001b[0;34m\u001b[0m\u001b[0;34m\u001b[0m\u001b[0m\n\u001b[0m",
      "\u001b[0;31mNameError\u001b[0m: name 'y22' is not defined"
     ]
    }
   ],
   "source": [
    "y22(2),y33(2),y44(2)"
   ]
  },
  {
   "cell_type": "markdown",
   "metadata": {},
   "source": [
    "$y4$ wins"
   ]
  },
  {
   "cell_type": "markdown",
   "metadata": {},
   "source": [
    "#### 3.3. Who is the vertex of parabola $y_2$?"
   ]
  },
  {
   "cell_type": "code",
   "execution_count": null,
   "metadata": {},
   "outputs": [],
   "source": []
  },
  {
   "cell_type": "markdown",
   "metadata": {},
   "source": [
    "#### 3.4. Where does $y_2$ intersect X axis? And Y axis?"
   ]
  },
  {
   "cell_type": "code",
   "execution_count": null,
   "metadata": {},
   "outputs": [],
   "source": [
    "Graph visually says:\n",
    "    X axis = (-2,0),(-5,0)\n",
    "    Y axis = (0,10)"
   ]
  },
  {
   "cell_type": "markdown",
   "metadata": {},
   "source": [
    "#### 3.5. As x gets very big, what happens to $y$ go in each case?"
   ]
  },
  {
   "cell_type": "markdown",
   "metadata": {},
   "source": [
    "then y2, y3, y4 all get very big"
   ]
  },
  {
   "cell_type": "markdown",
   "metadata": {},
   "source": [
    "#### 3.6. As x gets very small (big negative), what happens to $y$ go in each case?"
   ]
  },
  {
   "cell_type": "markdown",
   "metadata": {},
   "source": [
    "y2 and y4 go to infinity\n"
   ]
  },
  {
   "cell_type": "markdown",
   "metadata": {},
   "source": [
    "### 4. Exponential"
   ]
  },
  {
   "cell_type": "markdown",
   "metadata": {},
   "source": [
    "#### 4.1. Print number $e$ rounded to 3 decimal figures"
   ]
  },
  {
   "cell_type": "code",
   "execution_count": null,
   "metadata": {},
   "outputs": [],
   "source": []
  },
  {
   "cell_type": "markdown",
   "metadata": {},
   "source": [
    "#### 4.2. Compute $e$ to the powers 0, 1, 2, 3, 10"
   ]
  },
  {
   "cell_type": "code",
   "execution_count": null,
   "metadata": {},
   "outputs": [],
   "source": []
  },
  {
   "cell_type": "markdown",
   "metadata": {},
   "source": [
    "#### 4.3. Compute $e$ to the powers 0, -1, -2, -3, -10"
   ]
  },
  {
   "cell_type": "code",
   "execution_count": null,
   "metadata": {},
   "outputs": [],
   "source": []
  },
  {
   "cell_type": "markdown",
   "metadata": {},
   "source": [
    "#### 4.4. Plot functions $e^x$, $e^{2x}$, $e^{-x}$"
   ]
  },
  {
   "cell_type": "markdown",
   "metadata": {},
   "source": [
    "Note: choose an appropiate x-range to visualize them all toguether"
   ]
  },
  {
   "cell_type": "code",
   "execution_count": null,
   "metadata": {},
   "outputs": [],
   "source": []
  },
  {
   "cell_type": "markdown",
   "metadata": {},
   "source": [
    "### 5. Sum notation"
   ]
  },
  {
   "cell_type": "markdown",
   "metadata": {},
   "source": [
    "Find the following:"
   ]
  },
  {
   "cell_type": "markdown",
   "metadata": {},
   "source": [
    "$$\\sum_{n=4}^7 n$$"
   ]
  },
  {
   "cell_type": "code",
   "execution_count": null,
   "metadata": {},
   "outputs": [],
   "source": []
  },
  {
   "cell_type": "markdown",
   "metadata": {},
   "source": [
    "$$\\sum_{n=-2}^3 (n + 1)$$"
   ]
  },
  {
   "cell_type": "code",
   "execution_count": null,
   "metadata": {},
   "outputs": [],
   "source": []
  },
  {
   "cell_type": "markdown",
   "metadata": {},
   "source": [
    "$$\\sum_{n=-2}^3 (n^2 - 2)$$"
   ]
  },
  {
   "cell_type": "code",
   "execution_count": null,
   "metadata": {},
   "outputs": [],
   "source": []
  },
  {
   "cell_type": "markdown",
   "metadata": {},
   "source": [
    "$$\\sum_{n=0}^4 (10^n - 1)$$"
   ]
  },
  {
   "cell_type": "code",
   "execution_count": null,
   "metadata": {},
   "outputs": [],
   "source": []
  },
  {
   "cell_type": "markdown",
   "metadata": {},
   "source": [
    "### 6. Combinatorics"
   ]
  },
  {
   "cell_type": "markdown",
   "metadata": {},
   "source": [
    "#### 6.1. Ten people go to a party. How many handshakes happen?"
   ]
  },
  {
   "cell_type": "code",
   "execution_count": null,
   "metadata": {},
   "outputs": [],
   "source": []
  },
  {
   "cell_type": "markdown",
   "metadata": {},
   "source": [
    "#### 6.2. My family is composed of 11 members. By christmas, one buys food, one cooks and one cleans. How many possible arrangements of buyer-cooker-cleaner are there?"
   ]
  },
  {
   "cell_type": "code",
   "execution_count": null,
   "metadata": {},
   "outputs": [],
   "source": []
  },
  {
   "cell_type": "markdown",
   "metadata": {},
   "source": [
    "### BONUS"
   ]
  },
  {
   "cell_type": "markdown",
   "metadata": {},
   "source": [
    "11 and 13 are twin primes, since:\n",
    " - they are both primes  \n",
    " - their distance is 2\n",
    " \n",
    "Find all pairs of twin primes below 1000"
   ]
  },
  {
   "cell_type": "code",
   "execution_count": null,
   "metadata": {},
   "outputs": [],
   "source": []
  }
 ],
 "metadata": {
  "kernelspec": {
   "display_name": "Python 3",
   "language": "python",
   "name": "python3"
  },
  "language_info": {
   "codemirror_mode": {
    "name": "ipython",
    "version": 3
   },
   "file_extension": ".py",
   "mimetype": "text/x-python",
   "name": "python",
   "nbconvert_exporter": "python",
   "pygments_lexer": "ipython3",
   "version": "3.8.5"
  },
  "toc": {
   "base_numbering": 1,
   "nav_menu": {},
   "number_sections": true,
   "sideBar": true,
   "skip_h1_title": false,
   "title_cell": "Table of Contents",
   "title_sidebar": "Contents",
   "toc_cell": false,
   "toc_position": {},
   "toc_section_display": true,
   "toc_window_display": false
  },
  "varInspector": {
   "cols": {
    "lenName": 16,
    "lenType": 16,
    "lenVar": 40
   },
   "kernels_config": {
    "python": {
     "delete_cmd_postfix": "",
     "delete_cmd_prefix": "del ",
     "library": "var_list.py",
     "varRefreshCmd": "print(var_dic_list())"
    },
    "r": {
     "delete_cmd_postfix": ") ",
     "delete_cmd_prefix": "rm(",
     "library": "var_list.r",
     "varRefreshCmd": "cat(var_dic_list()) "
    }
   },
   "types_to_exclude": [
    "module",
    "function",
    "builtin_function_or_method",
    "instance",
    "_Feature"
   ],
   "window_display": false
  }
 },
 "nbformat": 4,
 "nbformat_minor": 4
}
